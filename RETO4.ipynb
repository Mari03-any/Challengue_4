{
  "nbformat": 4,
  "nbformat_minor": 0,
  "metadata": {
    "colab": {
      "provenance": []
    },
    "kernelspec": {
      "name": "python3",
      "display_name": "Python 3"
    },
    "language_info": {
      "name": "python"
    }
  },
  "cells": [
    {
      "cell_type": "markdown",
      "source": [
        "## PRIMER EJERCICIO\n",
        " #### Dado un número entero, determinar si ese número corresponde al código ASCII de una vocal minúscula.\n",
        "\n"
      ],
      "metadata": {
        "id": "W3E2srknBthw"
      }
    },
    {
      "cell_type": "code",
      "source": [
        "i : int\n",
        "i = int(input(\"Ingrese un entero:\"))\n",
        "if i == 97:\n",
        "  print(\"El código ASCII \" +str(i)+ \" es la vocal a\")\n",
        "elif i == 101:\n",
        "  print(\"El codigo ASCCI \"+str(i)+\" es e\")\n",
        "elif i == 105:\n",
        "  print(\"El codigo ASCCI \"+str(i)+\" es i\")\n",
        "elif i == 111:\n",
        "  print(\"El codigo ASCCI \"+str(i)+\" es o\")\n",
        "elif i == 117:\n",
        "  print(\"El codigo ASCCI \"+str(i)+\" es u\")\n",
        "else:\n",
        "  print(\"No hay vocal minúscula para el codigo ASCII\")"
      ],
      "metadata": {
        "id": "haQCWvudspyV",
        "outputId": "8033bf9a-832f-4ef2-8271-c2925c3bd58a",
        "colab": {
          "base_uri": "https://localhost:8080/"
        }
      },
      "execution_count": 93,
      "outputs": [
        {
          "output_type": "stream",
          "name": "stdout",
          "text": [
            "Ingrese un entero:5\n",
            "No hay vocal minucula para el codigo ASCII\n"
          ]
        }
      ]
    },
    {
      "cell_type": "markdown",
      "source": [
        "## SEGUNDO EJERCICIO\n",
        "#### Dada una cadena de longitud 1, determine si el código ASCII de primera letra de la cadena es par o no."
      ],
      "metadata": {
        "id": "fA_Or9Mhy7js"
      }
    },
    {
      "cell_type": "code",
      "source": [
        "x = input(\"Ingrese una cadena de longitud 1: \")\n",
        "if len(x) != 1:\n",
        "    print(\"Por favor, ingrese solo un carácter.\")\n",
        "else:\n",
        "    codigo_ascii = ord(x)\n",
        "    if codigo_ascii % 2 == 0:\n",
        "        print(f\"El código ASCII de '{x}' es par.\")\n",
        "    else:\n",
        "        print(f\"El código ASCII de '{x}' es impar.\")\n",
        "    print(f\"El código ASCII de '{x}' es {codigo_ascii}.\")\n"
      ],
      "metadata": {
        "colab": {
          "base_uri": "https://localhost:8080/"
        },
        "id": "o3V3_uLUz-ku",
        "outputId": "ca2fffbf-2d71-4d9b-9c4a-8d043988d942"
      },
      "execution_count": 96,
      "outputs": [
        {
          "output_type": "stream",
          "name": "stdout",
          "text": [
            "Ingrese una cadena de longitud 1: r\n",
            "El código ASCII de 'r' es par.\n",
            "El código ASCII de 'r' es 114.\n"
          ]
        }
      ]
    },
    {
      "cell_type": "markdown",
      "source": [
        "## TERCER EJERCICIO\n",
        "#### Dado un carácter, construya un programa en Python para determinar si el carácter es un dígito o no."
      ],
      "metadata": {
        "id": "VI9V5Whz9wQQ"
      }
    },
    {
      "cell_type": "code",
      "source": [
        "n = input(\"Ingrese un carácter: \")\n",
        "if n >= '0' and n <= '9':\n",
        "    print(\"El número \" + str(n) + \" es un dígito\")\n",
        "else:\n",
        "    print(\"El número \" + str(n) + \" no es un dígito\")\n"
      ],
      "metadata": {
        "colab": {
          "base_uri": "https://localhost:8080/"
        },
        "id": "YrMVyxNdJelp",
        "outputId": "fc93f8a2-2303-4939-8ca1-90eacef2577c"
      },
      "execution_count": 100,
      "outputs": [
        {
          "output_type": "stream",
          "name": "stdout",
          "text": [
            "Ingrese un carácter: 4\n",
            "El número 4 es un dígito\n"
          ]
        }
      ]
    },
    {
      "cell_type": "markdown",
      "source": [
        "## CUARTO EJERCICIO\n",
        "#### Realice un programa que lea dos números reales y determine si el primero es múltiplo del segundo."
      ],
      "metadata": {
        "id": "NCnZCZ3vJlhu"
      }
    },
    {
      "cell_type": "code",
      "source": [
        "a : float\n",
        "b : float\n",
        "a = float(input(\"Ingrese el primer número entero:\"))\n",
        "b = float(input(\"Ingrese el segundp número entero:\"))\n",
        "\n",
        "if a % b == 0:\n",
        "  print(\"a es múltiplo de b\")\n",
        "else:\n",
        "  print(\"a no es múltiplo de b\")\n"
      ],
      "metadata": {
        "colab": {
          "base_uri": "https://localhost:8080/"
        },
        "id": "TA55P0aXJ-ka",
        "outputId": "b9a44e3b-d0f3-4700-a460-30a5bd100ab5"
      },
      "execution_count": 105,
      "outputs": [
        {
          "output_type": "stream",
          "name": "stdout",
          "text": [
            "Ingrese el primer número entero:9\n",
            "Ingrese el segundp número entero:4\n",
            "a no es múltiplo de b\n"
          ]
        }
      ]
    },
    {
      "cell_type": "markdown",
      "source": [
        "## QUINTO EJERCICIO\n",
        "#### Dado un número real x, construya un programa que permita determinar si el número es positivo, negativo o cero. Para cada caso de debe imprimir el texto que se especifica a continuación:\n",
        "\n",
        "*   Positivo: \"El número x es positivo\"\n",
        "*   Negativo: \"El número x es negativo\"\n",
        "*   Cero (0): \"El número x es el neutro para la suma\"\n",
        "\n"
      ],
      "metadata": {
        "id": "dlEvdiuSLLPR"
      }
    },
    {
      "cell_type": "code",
      "source": [
        "x = float(input(\"Ingrese un número real: \"))\n",
        "\n",
        "if x > 0:\n",
        "    print(\"El número \" + str(x) + \" es positivo\")\n",
        "elif x < 0:\n",
        "    print(\"El número \" + str(x) + \" es negativo\")\n",
        "else:\n",
        "    print(\"El número \" + str(x) + \" es neutro para la suma\")\n"
      ],
      "metadata": {
        "colab": {
          "base_uri": "https://localhost:8080/"
        },
        "id": "EwhHFm6mNC-a",
        "outputId": "1b545044-9486-4498-eec2-2ed5fd5927f9"
      },
      "execution_count": 107,
      "outputs": [
        {
          "output_type": "stream",
          "name": "stdout",
          "text": [
            "Ingrese un número real: 45\n",
            "El número 45.0 es positivo\n"
          ]
        }
      ]
    },
    {
      "cell_type": "markdown",
      "source": [
        "## SEXTO EJERCICIO\n",
        "#### Dado el centro y el radio de un círculo, determinar si un punto de R2 pertenece o no al interior del círculo."
      ],
      "metadata": {
        "id": "_U_cbqZJNOU3"
      }
    },
    {
      "cell_type": "code",
      "source": [
        "x = float(input(\"Ingrese la coordenada x del punto: \"))\n",
        "y = float(input(\"Ingrese la coordenada y del punto: \"))\n",
        "x_c = float(input(\"Ingrese la coordenada x del centro del círculo: \"))\n",
        "y_c = float(input(\"Ingrese la coordenada y del centro del círculo: \"))\n",
        "r = float(input(\"Ingrese el radio del círculo: \"))\n",
        "\n",
        "if (x - x_c)**2 + (y - y_c)**2 <= r**2:\n",
        "    print(\"{La coordenada está dentro del círculo.\")\n",
        "else:\n",
        "    print(\"La coordenada está fuera del círculo.\")\n"
      ],
      "metadata": {
        "colab": {
          "base_uri": "https://localhost:8080/"
        },
        "id": "JAHOD2-zOuvt",
        "outputId": "db8ee443-0beb-4307-d498-06c3a37670ad"
      },
      "execution_count": 112,
      "outputs": [
        {
          "output_type": "stream",
          "name": "stdout",
          "text": [
            "Ingrese la coordenada x del punto: 5\n",
            "Ingrese la coordenada y del punto: 6\n",
            "Ingrese la coordenada x del centro del círculo: 8\n",
            "Ingrese la coordenada y del centro del círculo: 3\n",
            "Ingrese el radio del círculo: 1\n",
            "La coordenada está fuera del círculo.\n"
          ]
        }
      ]
    },
    {
      "cell_type": "markdown",
      "source": [
        "## SEPTIMO EJERCICIO\n",
        "#### Dadas tres longitudes positivas, determinar si con esas longitudes se puede construir un triángulo."
      ],
      "metadata": {
        "id": "mDuszFjGPDeQ"
      }
    },
    {
      "cell_type": "code",
      "source": [
        "m = float(input(\"Ingrese la longitud del primer lado: \"))\n",
        "n = float(input(\"Ingrese la longitud del segundo lado: \"))\n",
        "o = float(input(\"Ingrese la longitud del tercer lado: \"))\n",
        "\n",
        "if m + n > o and m + o > n and n + o > m:\n",
        "    print(\"Con estas longitudes sí se puede construir un triángulo.\")\n",
        "else:\n",
        "    print(\"Con estas longitudes no se puede construir un triángulo.\")\n",
        "\n"
      ],
      "metadata": {
        "colab": {
          "base_uri": "https://localhost:8080/"
        },
        "id": "h_nHr7AIPvJy",
        "outputId": "24872c13-58c9-4991-8c34-c69d005b70a9"
      },
      "execution_count": 116,
      "outputs": [
        {
          "output_type": "stream",
          "name": "stdout",
          "text": [
            "Ingrese la longitud del primer lado: 7\n",
            "Ingrese la longitud del segundo lado: 6\n",
            "Ingrese la longitud del tercer lado: 4\n",
            "Con estas longitudes sí se puede construir un triángulo.\n"
          ]
        }
      ]
    },
    {
      "cell_type": "markdown",
      "source": [
        "## OCTAVO EJERCICIO\n",
        "#### Escriba un programa que reciba el nombre en minúsculas de un país de America y retorne la ciudad capital, si el país no pertenece al continente debe arrojar país no identificado (Utilice match-case)."
      ],
      "metadata": {
        "id": "LD8WEhDsSLat"
      }
    },
    {
      "cell_type": "code",
      "source": [
        "pais = input(\"Ingrese el nombre de un país de América en minúsculas: \")\n",
        "\n",
        "match pais:\n",
        "  case \"colombia\":\n",
        "    print(\"Bogotá\")\n",
        "  case \"argentina\":\n",
        "    print(\"Buenos Aires\")\n",
        "  case \"mexico\":\n",
        "    print(\"Cuidad de méxico\")\n",
        "  case \"bolivia\":\n",
        "    print(\"Sucre\")\n",
        "  case \"peru\":\n",
        "    print(\"Lima\")\n",
        "  case \"honduras\":\n",
        "    print(\"Tegucigalpa\")\n",
        "  case \"nicaragua\":\n",
        "    print(\"Managua\")\n",
        "  case \"brasil\":\n",
        "    print(\"Brasilia\")\n",
        "  case \"canada\":\n",
        "    print(\"Ottawa\")\n",
        "  case \"chile\":\n",
        "    print(\"Santiago\")\n",
        "  case \"paraguay\":\n",
        "    print(\"Asunción\")\n",
        "  case \"ecuador\":\n",
        "    print(\"Quito\")\n",
        "  case \"venezuela\":\n",
        "    print(\"Caracas\")\n",
        "  case \"costa rica\":\n",
        "    print(\"San José\")\n",
        "  case \"el salvador\":\n",
        "    print(\"San Salvador\")\n",
        "  case \"guatemala\":\n",
        "    print(\"Ciudad de Guatemala\")\n",
        "  case \"panama\":\n",
        "    print(\"Panamá\")\n",
        "  case _:\n",
        "    print(\"País no identificado.\")"
      ],
      "metadata": {
        "colab": {
          "base_uri": "https://localhost:8080/"
        },
        "id": "UVRHWcnaS2GY",
        "outputId": "4d5e23b0-772a-4705-d3f6-3e87d1185d38"
      },
      "execution_count": 119,
      "outputs": [
        {
          "output_type": "stream",
          "name": "stdout",
          "text": [
            "Ingrese el nombre de un país de América en minúsculas: nicaragua\n",
            "Managua\n"
          ]
        }
      ]
    }
  ]
}